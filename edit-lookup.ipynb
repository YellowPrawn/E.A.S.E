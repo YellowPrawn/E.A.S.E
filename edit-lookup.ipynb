{
 "cells": [
  {
   "cell_type": "code",
   "execution_count": null,
   "metadata": {},
   "outputs": [],
   "source": [
    "library(tidyverse)\n",
    "library(repr)\n",
    "library(dplyr)"
   ]
  },
  {
   "cell_type": "markdown",
   "metadata": {},
   "source": [
    "Fetch statement for new entries"
   ]
  },
  {
   "cell_type": "code",
   "execution_count": null,
   "metadata": {},
   "outputs": [],
   "source": [
    "statement_raw_data <- read_csv(\"data/statement.csv\")\n",
    "visa_data <- statement_raw_data %>%\n",
    "    filter(`Account Type`==\"Visa\") %>%\n",
    "    select(\"Description 1\")%>%\n",
    "    rename(\"Description 2\"=`Description 1`)\n",
    "chequing_data <- statement_raw_data %>%\n",
    "    filter(`Account Type` == \"Chequing\") %>%\n",
    "    select(\"Description 2\")\n",
    "statement_data <- rbind(chequing_data, visa_data)\n",
    "statement_data"
   ]
  },
  {
   "cell_type": "markdown",
   "metadata": {},
   "source": [
    "Fetch lookup table for previous entries"
   ]
  },
  {
   "cell_type": "code",
   "execution_count": null,
   "metadata": {},
   "outputs": [],
   "source": [
    "lookup_data <- read_csv(\"data/lookup_table.csv\") %>%\n",
    "    select(\"Description 2\", \"type\")\n",
    "tail(lookup_data, n=10)"
   ]
  },
  {
   "cell_type": "markdown",
   "metadata": {},
   "source": [
    "Find all uncategorized vendors"
   ]
  },
  {
   "cell_type": "code",
   "execution_count": null,
   "metadata": {},
   "outputs": [],
   "source": [
    "new_data <- merge(statement_data, lookup_data, all.x=TRUE)%>%\n",
    "    filter(is.na(type))%>%\n",
    "    unique\n",
    "head(new_data)"
   ]
  },
  {
   "cell_type": "markdown",
   "metadata": {},
   "source": [
    "Append uncategorized vendors to lookup table"
   ]
  },
  {
   "cell_type": "code",
   "execution_count": null,
   "metadata": {},
   "outputs": [],
   "source": [
    "write.table(new_data, file=\"data/lookup_table.csv\", \n",
    "            append = TRUE,\n",
    "            sep = \",\",\n",
    "            row.names= FALSE, \n",
    "            col.names= FALSE)"
   ]
  },
  {
   "cell_type": "code",
   "execution_count": null,
   "metadata": {},
   "outputs": [],
   "source": []
  }
 ],
 "metadata": {
  "kernelspec": {
   "display_name": "R",
   "language": "R",
   "name": "ir"
  },
  "language_info": {
   "codemirror_mode": "r",
   "file_extension": ".r",
   "mimetype": "text/x-r-source",
   "name": "R",
   "pygments_lexer": "r",
   "version": "3.6.1"
  }
 },
 "nbformat": 4,
 "nbformat_minor": 4
}
