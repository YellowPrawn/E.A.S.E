{
 "cells": [
  {
   "cell_type": "code",
   "execution_count": 1,
   "metadata": {},
   "outputs": [
    {
     "name": "stderr",
     "output_type": "stream",
     "text": [
      "Registered S3 method overwritten by 'rvest':\n",
      "  method            from\n",
      "  read_xml.response xml2\n",
      "\n",
      "── \u001b[1mAttaching packages\u001b[22m ─────────────────────────────────────── tidyverse 1.2.1 ──\n",
      "\n",
      "\u001b[32m✔\u001b[39m \u001b[34mggplot2\u001b[39m 3.3.2     \u001b[32m✔\u001b[39m \u001b[34mpurrr  \u001b[39m 0.3.4\n",
      "\u001b[32m✔\u001b[39m \u001b[34mtibble \u001b[39m 3.0.4     \u001b[32m✔\u001b[39m \u001b[34mdplyr  \u001b[39m 1.0.2\n",
      "\u001b[32m✔\u001b[39m \u001b[34mtidyr  \u001b[39m 1.1.2     \u001b[32m✔\u001b[39m \u001b[34mstringr\u001b[39m 1.4.0\n",
      "\u001b[32m✔\u001b[39m \u001b[34mreadr  \u001b[39m 1.3.1     \u001b[32m✔\u001b[39m \u001b[34mforcats\u001b[39m 0.4.0\n",
      "\n",
      "Warning message:\n",
      "“package ‘ggplot2’ was built under R version 3.6.3”\n",
      "Warning message:\n",
      "“package ‘tibble’ was built under R version 3.6.3”\n",
      "Warning message:\n",
      "“package ‘tidyr’ was built under R version 3.6.3”\n",
      "Warning message:\n",
      "“package ‘purrr’ was built under R version 3.6.3”\n",
      "Warning message:\n",
      "“package ‘dplyr’ was built under R version 3.6.3”\n",
      "Warning message:\n",
      "“package ‘stringr’ was built under R version 3.6.3”\n",
      "── \u001b[1mConflicts\u001b[22m ────────────────────────────────────────── tidyverse_conflicts() ──\n",
      "\u001b[31m✖\u001b[39m \u001b[34mdplyr\u001b[39m::\u001b[32mfilter()\u001b[39m masks \u001b[34mstats\u001b[39m::filter()\n",
      "\u001b[31m✖\u001b[39m \u001b[34mdplyr\u001b[39m::\u001b[32mlag()\u001b[39m    masks \u001b[34mstats\u001b[39m::lag()\n",
      "\n",
      "Warning message:\n",
      "“package ‘repr’ was built under R version 3.6.3”\n",
      "Warning message:\n",
      "“package ‘infer’ was built under R version 3.6.3”\n",
      "Warning message:\n",
      "“package ‘gridExtra’ was built under R version 3.6.3”\n",
      "\n",
      "Attaching package: ‘gridExtra’\n",
      "\n",
      "\n",
      "The following object is masked from ‘package:dplyr’:\n",
      "\n",
      "    combine\n",
      "\n",
      "\n"
     ]
    }
   ],
   "source": [
    "library(tidyverse)\n",
    "library(repr)\n",
    "library(digest)\n",
    "library(infer)\n",
    "library(gridExtra)"
   ]
  },
  {
   "cell_type": "markdown",
   "metadata": {},
   "source": [
    "Select neccesary data"
   ]
  },
  {
   "cell_type": "code",
   "execution_count": 2,
   "metadata": {
    "scrolled": true
   },
   "outputs": [
    {
     "name": "stderr",
     "output_type": "stream",
     "text": [
      "Parsed with column specification:\n",
      "cols(\n",
      "  `Account Type` = \u001b[31mcol_character()\u001b[39m,\n",
      "  `Account Number` = \u001b[31mcol_character()\u001b[39m,\n",
      "  `Transaction Date` = \u001b[31mcol_character()\u001b[39m,\n",
      "  `Cheque Number` = \u001b[33mcol_logical()\u001b[39m,\n",
      "  `Description 1` = \u001b[31mcol_character()\u001b[39m,\n",
      "  `Description 2` = \u001b[31mcol_character()\u001b[39m,\n",
      "  `CAD$` = \u001b[32mcol_double()\u001b[39m,\n",
      "  `USD$` = \u001b[33mcol_logical()\u001b[39m\n",
      ")\n",
      "\n",
      "Warning message:\n",
      "“313 parsing failures.\n",
      "row col  expected    actual               file\n",
      "  1  -- 8 columns 9 columns 'data/history.csv'\n",
      "  2  -- 8 columns 9 columns 'data/history.csv'\n",
      "  3  -- 8 columns 9 columns 'data/history.csv'\n",
      "  4  -- 8 columns 9 columns 'data/history.csv'\n",
      "  5  -- 8 columns 9 columns 'data/history.csv'\n",
      "... ... ......... ......... ..................\n",
      "See problems(...) for more details.\n",
      "”\n",
      "Parsed with column specification:\n",
      "cols(\n",
      "  `Account Type` = \u001b[31mcol_character()\u001b[39m,\n",
      "  `Account Number` = \u001b[31mcol_character()\u001b[39m,\n",
      "  `Transaction Date` = \u001b[31mcol_character()\u001b[39m,\n",
      "  `Cheque Number` = \u001b[33mcol_logical()\u001b[39m,\n",
      "  `Description 1` = \u001b[31mcol_character()\u001b[39m,\n",
      "  `Description 2` = \u001b[31mcol_character()\u001b[39m,\n",
      "  `CAD$` = \u001b[32mcol_double()\u001b[39m,\n",
      "  `USD$` = \u001b[33mcol_logical()\u001b[39m\n",
      ")\n",
      "\n",
      "Warning message:\n",
      "“84 parsing failures.\n",
      "row col  expected    actual                 file\n",
      "  1  -- 8 columns 9 columns 'data/statement.csv'\n",
      "  2  -- 8 columns 9 columns 'data/statement.csv'\n",
      "  3  -- 8 columns 9 columns 'data/statement.csv'\n",
      "  4  -- 8 columns 9 columns 'data/statement.csv'\n",
      "  5  -- 8 columns 9 columns 'data/statement.csv'\n",
      "... ... ......... ......... ....................\n",
      "See problems(...) for more details.\n",
      "”\n"
     ]
    },
    {
     "data": {
      "text/html": [
       "<table class=\"dataframe\">\n",
       "<caption>A tibble: 10 × 3</caption>\n",
       "<thead>\n",
       "\t<tr><th scope=col>Transaction Date</th><th scope=col>Description 2</th><th scope=col>Transaction</th></tr>\n",
       "\t<tr><th scope=col>&lt;chr&gt;</th><th scope=col>&lt;chr&gt;</th><th scope=col>&lt;dbl&gt;</th></tr>\n",
       "</thead>\n",
       "<tbody>\n",
       "\t<tr><td>7/9/2021 </td><td>BREKA BAKERY       </td><td>-15.70</td></tr>\n",
       "\t<tr><td>7/9/2021 </td><td>SAVE ON FOODS #    </td><td>-19.79</td></tr>\n",
       "\t<tr><td>7/9/2021 </td><td>DOORDASH*SUBWAY    </td><td>-17.50</td></tr>\n",
       "\t<tr><td>7/9/2021 </td><td>PAYPAL *DISNEYP    </td><td>-39.19</td></tr>\n",
       "\t<tr><td>7/12/2021</td><td>PTB DEP -- VL273670</td><td>125.00</td></tr>\n",
       "\t<tr><td>7/12/2021</td><td>SAVE ON FOODS #    </td><td> 62.99</td></tr>\n",
       "\t<tr><td>7/12/2021</td><td>BOOKSTORE STARB    </td><td>-15.38</td></tr>\n",
       "\t<tr><td>7/12/2021</td><td>SAVE ON FOODS #    </td><td>-90.96</td></tr>\n",
       "\t<tr><td>7/12/2021</td><td>DOORDASH*CHICKE    </td><td>-22.98</td></tr>\n",
       "\t<tr><td>7/12/2021</td><td>Amazon.ca          </td><td>-35.14</td></tr>\n",
       "</tbody>\n",
       "</table>\n"
      ],
      "text/latex": [
       "A tibble: 10 × 3\n",
       "\\begin{tabular}{lll}\n",
       " Transaction Date & Description 2 & Transaction\\\\\n",
       " <chr> & <chr> & <dbl>\\\\\n",
       "\\hline\n",
       "\t 7/9/2021  & BREKA BAKERY        & -15.70\\\\\n",
       "\t 7/9/2021  & SAVE ON FOODS \\#     & -19.79\\\\\n",
       "\t 7/9/2021  & DOORDASH*SUBWAY     & -17.50\\\\\n",
       "\t 7/9/2021  & PAYPAL *DISNEYP     & -39.19\\\\\n",
       "\t 7/12/2021 & PTB DEP -- VL273670 & 125.00\\\\\n",
       "\t 7/12/2021 & SAVE ON FOODS \\#     &  62.99\\\\\n",
       "\t 7/12/2021 & BOOKSTORE STARB     & -15.38\\\\\n",
       "\t 7/12/2021 & SAVE ON FOODS \\#     & -90.96\\\\\n",
       "\t 7/12/2021 & DOORDASH*CHICKE     & -22.98\\\\\n",
       "\t 7/12/2021 & Amazon.ca           & -35.14\\\\\n",
       "\\end{tabular}\n"
      ],
      "text/markdown": [
       "\n",
       "A tibble: 10 × 3\n",
       "\n",
       "| Transaction Date &lt;chr&gt; | Description 2 &lt;chr&gt; | Transaction &lt;dbl&gt; |\n",
       "|---|---|---|\n",
       "| 7/9/2021  | BREKA BAKERY        | -15.70 |\n",
       "| 7/9/2021  | SAVE ON FOODS #     | -19.79 |\n",
       "| 7/9/2021  | DOORDASH*SUBWAY     | -17.50 |\n",
       "| 7/9/2021  | PAYPAL *DISNEYP     | -39.19 |\n",
       "| 7/12/2021 | PTB DEP -- VL273670 | 125.00 |\n",
       "| 7/12/2021 | SAVE ON FOODS #     |  62.99 |\n",
       "| 7/12/2021 | BOOKSTORE STARB     | -15.38 |\n",
       "| 7/12/2021 | SAVE ON FOODS #     | -90.96 |\n",
       "| 7/12/2021 | DOORDASH*CHICKE     | -22.98 |\n",
       "| 7/12/2021 | Amazon.ca           | -35.14 |\n",
       "\n"
      ],
      "text/plain": [
       "   Transaction Date Description 2       Transaction\n",
       "1  7/9/2021         BREKA BAKERY        -15.70     \n",
       "2  7/9/2021         SAVE ON FOODS #     -19.79     \n",
       "3  7/9/2021         DOORDASH*SUBWAY     -17.50     \n",
       "4  7/9/2021         PAYPAL *DISNEYP     -39.19     \n",
       "5  7/12/2021        PTB DEP -- VL273670 125.00     \n",
       "6  7/12/2021        SAVE ON FOODS #      62.99     \n",
       "7  7/12/2021        BOOKSTORE STARB     -15.38     \n",
       "8  7/12/2021        SAVE ON FOODS #     -90.96     \n",
       "9  7/12/2021        DOORDASH*CHICKE     -22.98     \n",
       "10 7/12/2021        Amazon.ca           -35.14     "
      ]
     },
     "metadata": {},
     "output_type": "display_data"
    }
   ],
   "source": [
    "history_data <- read_csv(\"data/history.csv\")\n",
    "statement_data <- read_csv(\"data/statement.csv\") %>%\n",
    "    filter(`Account Type` == \"Chequing\") %>%\n",
    "    rbind(history_data)%>%\n",
    "    select(\"Transaction Date\", \"Description 2\", \"CAD$\")%>%\n",
    "    rename(\"Transaction\"=\"CAD$\")\n",
    "head(statement_data, n=10)"
   ]
  },
  {
   "cell_type": "markdown",
   "metadata": {},
   "source": [
    "Categorize transactions"
   ]
  },
  {
   "cell_type": "code",
   "execution_count": 3,
   "metadata": {},
   "outputs": [
    {
     "name": "stderr",
     "output_type": "stream",
     "text": [
      "Parsed with column specification:\n",
      "cols(\n",
      "  `Description 2` = \u001b[31mcol_character()\u001b[39m,\n",
      "  type = \u001b[31mcol_character()\u001b[39m\n",
      ")\n",
      "\n",
      "Warning message:\n",
      "“2 parsing failures.\n",
      "row           col           expected actual                    file\n",
      "111 Description 2 delimiter or quote      R 'data/lookup_table.csv'\n",
      "111 Description 2 delimiter or quote      S 'data/lookup_table.csv'\n",
      "”\n"
     ]
    },
    {
     "data": {
      "text/html": [
       "<table class=\"dataframe\">\n",
       "<caption>A tibble: 6 × 2</caption>\n",
       "<thead>\n",
       "\t<tr><th scope=col>Description 2</th><th scope=col>type</th></tr>\n",
       "\t<tr><th scope=col>&lt;chr&gt;</th><th scope=col>&lt;chr&gt;</th></tr>\n",
       "</thead>\n",
       "<tbody>\n",
       "\t<tr><td>WENDY'S RESTAUR </td><td>Restaurant</td></tr>\n",
       "\t<tr><td>SHOPPERS DRUG M </td><td>Groceries </td></tr>\n",
       "\t<tr><td>SAVE ON FOODS # </td><td>Groceries </td></tr>\n",
       "\t<tr><td>#327 SPORT CHEK\"</td><td>Personal  </td></tr>\n",
       "\t<tr><td>7-ELEVEN STORE  </td><td>Groceries </td></tr>\n",
       "\t<tr><td>A W STORE# 0751 </td><td>Restaurant</td></tr>\n",
       "</tbody>\n",
       "</table>\n"
      ],
      "text/latex": [
       "A tibble: 6 × 2\n",
       "\\begin{tabular}{ll}\n",
       " Description 2 & type\\\\\n",
       " <chr> & <chr>\\\\\n",
       "\\hline\n",
       "\t WENDY'S RESTAUR  & Restaurant\\\\\n",
       "\t SHOPPERS DRUG M  & Groceries \\\\\n",
       "\t SAVE ON FOODS \\#  & Groceries \\\\\n",
       "\t \\#327 SPORT CHEK\" & Personal  \\\\\n",
       "\t 7-ELEVEN STORE   & Groceries \\\\\n",
       "\t A W STORE\\# 0751  & Restaurant\\\\\n",
       "\\end{tabular}\n"
      ],
      "text/markdown": [
       "\n",
       "A tibble: 6 × 2\n",
       "\n",
       "| Description 2 &lt;chr&gt; | type &lt;chr&gt; |\n",
       "|---|---|\n",
       "| WENDY'S RESTAUR  | Restaurant |\n",
       "| SHOPPERS DRUG M  | Groceries  |\n",
       "| SAVE ON FOODS #  | Groceries  |\n",
       "| #327 SPORT CHEK\" | Personal   |\n",
       "| 7-ELEVEN STORE   | Groceries  |\n",
       "| A W STORE# 0751  | Restaurant |\n",
       "\n"
      ],
      "text/plain": [
       "  Description 2    type      \n",
       "1 WENDY'S RESTAUR  Restaurant\n",
       "2 SHOPPERS DRUG M  Groceries \n",
       "3 SAVE ON FOODS #  Groceries \n",
       "4 #327 SPORT CHEK\" Personal  \n",
       "5 7-ELEVEN STORE   Groceries \n",
       "6 A W STORE# 0751  Restaurant"
      ]
     },
     "metadata": {},
     "output_type": "display_data"
    }
   ],
   "source": [
    "lookup_data <- read_csv(\"data/lookup_table.csv\")\n",
    "head(lookup_data)"
   ]
  },
  {
   "cell_type": "markdown",
   "metadata": {},
   "source": [
    "Merge transaction type with remaining data and remove vendor name"
   ]
  },
  {
   "cell_type": "code",
   "execution_count": 4,
   "metadata": {},
   "outputs": [
    {
     "data": {
      "text/html": [
       "<table class=\"dataframe\">\n",
       "<caption>A data.frame: 10 × 3</caption>\n",
       "<thead>\n",
       "\t<tr><th></th><th scope=col>Transaction Date</th><th scope=col>Transaction</th><th scope=col>type</th></tr>\n",
       "\t<tr><th></th><th scope=col>&lt;chr&gt;</th><th scope=col>&lt;dbl&gt;</th><th scope=col>&lt;chr&gt;</th></tr>\n",
       "</thead>\n",
       "<tbody>\n",
       "\t<tr><th scope=row>1</th><td>6/3/2021 </td><td>  -3.05</td><td>Groceries </td></tr>\n",
       "\t<tr><th scope=row>2</th><td>4/12/2021</td><td> -13.31</td><td>Restaurant</td></tr>\n",
       "\t<tr><th scope=row>3</th><td>5/25/2021</td><td> -20.48</td><td>Personal  </td></tr>\n",
       "\t<tr><th scope=row>4</th><td>6/14/2021</td><td>-145.54</td><td>Personal  </td></tr>\n",
       "\t<tr><th scope=row>5</th><td>5/17/2021</td><td> -20.48</td><td>Personal  </td></tr>\n",
       "\t<tr><th scope=row>6</th><td>6/21/2021</td><td> -23.91</td><td>Personal  </td></tr>\n",
       "\t<tr><th scope=row>7</th><td>4/30/2021</td><td> -32.12</td><td>Personal  </td></tr>\n",
       "\t<tr><th scope=row>8</th><td>5/28/2021</td><td> -20.48</td><td>Personal  </td></tr>\n",
       "\t<tr><th scope=row>9</th><td>5/20/2021</td><td>  20.48</td><td>Personal  </td></tr>\n",
       "\t<tr><th scope=row>10</th><td>6/21/2021</td><td> -22.38</td><td>Personal  </td></tr>\n",
       "</tbody>\n",
       "</table>\n"
      ],
      "text/latex": [
       "A data.frame: 10 × 3\n",
       "\\begin{tabular}{r|lll}\n",
       "  & Transaction Date & Transaction & type\\\\\n",
       "  & <chr> & <dbl> & <chr>\\\\\n",
       "\\hline\n",
       "\t1 & 6/3/2021  &   -3.05 & Groceries \\\\\n",
       "\t2 & 4/12/2021 &  -13.31 & Restaurant\\\\\n",
       "\t3 & 5/25/2021 &  -20.48 & Personal  \\\\\n",
       "\t4 & 6/14/2021 & -145.54 & Personal  \\\\\n",
       "\t5 & 5/17/2021 &  -20.48 & Personal  \\\\\n",
       "\t6 & 6/21/2021 &  -23.91 & Personal  \\\\\n",
       "\t7 & 4/30/2021 &  -32.12 & Personal  \\\\\n",
       "\t8 & 5/28/2021 &  -20.48 & Personal  \\\\\n",
       "\t9 & 5/20/2021 &   20.48 & Personal  \\\\\n",
       "\t10 & 6/21/2021 &  -22.38 & Personal  \\\\\n",
       "\\end{tabular}\n"
      ],
      "text/markdown": [
       "\n",
       "A data.frame: 10 × 3\n",
       "\n",
       "| <!--/--> | Transaction Date &lt;chr&gt; | Transaction &lt;dbl&gt; | type &lt;chr&gt; |\n",
       "|---|---|---|---|\n",
       "| 1 | 6/3/2021  |   -3.05 | Groceries  |\n",
       "| 2 | 4/12/2021 |  -13.31 | Restaurant |\n",
       "| 3 | 5/25/2021 |  -20.48 | Personal   |\n",
       "| 4 | 6/14/2021 | -145.54 | Personal   |\n",
       "| 5 | 5/17/2021 |  -20.48 | Personal   |\n",
       "| 6 | 6/21/2021 |  -23.91 | Personal   |\n",
       "| 7 | 4/30/2021 |  -32.12 | Personal   |\n",
       "| 8 | 5/28/2021 |  -20.48 | Personal   |\n",
       "| 9 | 5/20/2021 |   20.48 | Personal   |\n",
       "| 10 | 6/21/2021 |  -22.38 | Personal   |\n",
       "\n"
      ],
      "text/plain": [
       "   Transaction Date Transaction type      \n",
       "1  6/3/2021           -3.05     Groceries \n",
       "2  4/12/2021         -13.31     Restaurant\n",
       "3  5/25/2021         -20.48     Personal  \n",
       "4  6/14/2021        -145.54     Personal  \n",
       "5  5/17/2021         -20.48     Personal  \n",
       "6  6/21/2021         -23.91     Personal  \n",
       "7  4/30/2021         -32.12     Personal  \n",
       "8  5/28/2021         -20.48     Personal  \n",
       "9  5/20/2021          20.48     Personal  \n",
       "10 6/21/2021         -22.38     Personal  "
      ]
     },
     "metadata": {},
     "output_type": "display_data"
    }
   ],
   "source": [
    "merged_data <- merge(statement_data, lookup_data)%>%\n",
    "    select(-\"Description 2\")\n",
    "head(merged_data, n=10)"
   ]
  },
  {
   "cell_type": "markdown",
   "metadata": {},
   "source": [
    "Minor clean up"
   ]
  },
  {
   "cell_type": "code",
   "execution_count": 9,
   "metadata": {},
   "outputs": [
    {
     "data": {
      "text/html": [
       "<table class=\"dataframe\">\n",
       "<caption>A data.frame: 10 × 3</caption>\n",
       "<thead>\n",
       "\t<tr><th></th><th scope=col>Transaction Date</th><th scope=col>Transaction</th><th scope=col>type</th></tr>\n",
       "\t<tr><th></th><th scope=col>&lt;chr&gt;</th><th scope=col>&lt;dbl&gt;</th><th scope=col>&lt;chr&gt;</th></tr>\n",
       "</thead>\n",
       "<tbody>\n",
       "\t<tr><th scope=row>1</th><td>6/3/2021 </td><td>  -3.05</td><td>Groceries </td></tr>\n",
       "\t<tr><th scope=row>2</th><td>4/12/2021</td><td> -13.31</td><td>Restaurant</td></tr>\n",
       "\t<tr><th scope=row>3</th><td>5/25/2021</td><td> -20.48</td><td>Personal  </td></tr>\n",
       "\t<tr><th scope=row>4</th><td>6/14/2021</td><td>-145.54</td><td>Personal  </td></tr>\n",
       "\t<tr><th scope=row>5</th><td>5/17/2021</td><td> -20.48</td><td>Personal  </td></tr>\n",
       "\t<tr><th scope=row>6</th><td>6/21/2021</td><td> -23.91</td><td>Personal  </td></tr>\n",
       "\t<tr><th scope=row>7</th><td>4/30/2021</td><td> -32.12</td><td>Personal  </td></tr>\n",
       "\t<tr><th scope=row>8</th><td>5/28/2021</td><td> -20.48</td><td>Personal  </td></tr>\n",
       "\t<tr><th scope=row>9</th><td>5/20/2021</td><td>  20.48</td><td>Personal  </td></tr>\n",
       "\t<tr><th scope=row>10</th><td>6/21/2021</td><td> -22.38</td><td>Personal  </td></tr>\n",
       "</tbody>\n",
       "</table>\n"
      ],
      "text/latex": [
       "A data.frame: 10 × 3\n",
       "\\begin{tabular}{r|lll}\n",
       "  & Transaction Date & Transaction & type\\\\\n",
       "  & <chr> & <dbl> & <chr>\\\\\n",
       "\\hline\n",
       "\t1 & 6/3/2021  &   -3.05 & Groceries \\\\\n",
       "\t2 & 4/12/2021 &  -13.31 & Restaurant\\\\\n",
       "\t3 & 5/25/2021 &  -20.48 & Personal  \\\\\n",
       "\t4 & 6/14/2021 & -145.54 & Personal  \\\\\n",
       "\t5 & 5/17/2021 &  -20.48 & Personal  \\\\\n",
       "\t6 & 6/21/2021 &  -23.91 & Personal  \\\\\n",
       "\t7 & 4/30/2021 &  -32.12 & Personal  \\\\\n",
       "\t8 & 5/28/2021 &  -20.48 & Personal  \\\\\n",
       "\t9 & 5/20/2021 &   20.48 & Personal  \\\\\n",
       "\t10 & 6/21/2021 &  -22.38 & Personal  \\\\\n",
       "\\end{tabular}\n"
      ],
      "text/markdown": [
       "\n",
       "A data.frame: 10 × 3\n",
       "\n",
       "| <!--/--> | Transaction Date &lt;chr&gt; | Transaction &lt;dbl&gt; | type &lt;chr&gt; |\n",
       "|---|---|---|---|\n",
       "| 1 | 6/3/2021  |   -3.05 | Groceries  |\n",
       "| 2 | 4/12/2021 |  -13.31 | Restaurant |\n",
       "| 3 | 5/25/2021 |  -20.48 | Personal   |\n",
       "| 4 | 6/14/2021 | -145.54 | Personal   |\n",
       "| 5 | 5/17/2021 |  -20.48 | Personal   |\n",
       "| 6 | 6/21/2021 |  -23.91 | Personal   |\n",
       "| 7 | 4/30/2021 |  -32.12 | Personal   |\n",
       "| 8 | 5/28/2021 |  -20.48 | Personal   |\n",
       "| 9 | 5/20/2021 |   20.48 | Personal   |\n",
       "| 10 | 6/21/2021 |  -22.38 | Personal   |\n",
       "\n"
      ],
      "text/plain": [
       "   Transaction Date Transaction type      \n",
       "1  6/3/2021           -3.05     Groceries \n",
       "2  4/12/2021         -13.31     Restaurant\n",
       "3  5/25/2021         -20.48     Personal  \n",
       "4  6/14/2021        -145.54     Personal  \n",
       "5  5/17/2021         -20.48     Personal  \n",
       "6  6/21/2021         -23.91     Personal  \n",
       "7  4/30/2021         -32.12     Personal  \n",
       "8  5/28/2021         -20.48     Personal  \n",
       "9  5/20/2021          20.48     Personal  \n",
       "10 6/21/2021         -22.38     Personal  "
      ]
     },
     "metadata": {},
     "output_type": "display_data"
    }
   ],
   "source": [
    "savings_filter <- filter(merged_data, type==\"Savings\")%>%\n",
    "    mutate(Transaction = abs(Transaction))\n",
    "cleaned_data <- filter(merged_data, type!=\"Savings\")%>%\n",
    "    rbind(savings_filter)\n",
    "head(cleaned_data, n=10)"
   ]
  },
  {
   "cell_type": "markdown",
   "metadata": {},
   "source": [
    "Separate Transaction date into multiple columns"
   ]
  },
  {
   "cell_type": "code",
   "execution_count": 6,
   "metadata": {},
   "outputs": [
    {
     "data": {
      "text/html": [
       "<table class=\"dataframe\">\n",
       "<caption>A data.frame: 6 × 5</caption>\n",
       "<thead>\n",
       "\t<tr><th></th><th scope=col>Month</th><th scope=col>Day</th><th scope=col>Year</th><th scope=col>Transaction</th><th scope=col>type</th></tr>\n",
       "\t<tr><th></th><th scope=col>&lt;chr&gt;</th><th scope=col>&lt;chr&gt;</th><th scope=col>&lt;chr&gt;</th><th scope=col>&lt;dbl&gt;</th><th scope=col>&lt;chr&gt;</th></tr>\n",
       "</thead>\n",
       "<tbody>\n",
       "\t<tr><th scope=row>1</th><td>3</td><td>10</td><td>2021</td><td>-10.38</td><td>Restaurant</td></tr>\n",
       "\t<tr><th scope=row>2</th><td>3</td><td>11</td><td>2021</td><td>-10.49</td><td>Restaurant</td></tr>\n",
       "\t<tr><th scope=row>3</th><td>3</td><td>11</td><td>2021</td><td> -6.71</td><td>Groceries </td></tr>\n",
       "\t<tr><th scope=row>4</th><td>3</td><td>15</td><td>2021</td><td>-13.42</td><td>Personal  </td></tr>\n",
       "\t<tr><th scope=row>5</th><td>3</td><td>15</td><td>2021</td><td>-21.97</td><td>Personal  </td></tr>\n",
       "\t<tr><th scope=row>6</th><td>3</td><td>15</td><td>2021</td><td>-23.08</td><td>Personal  </td></tr>\n",
       "</tbody>\n",
       "</table>\n"
      ],
      "text/latex": [
       "A data.frame: 6 × 5\n",
       "\\begin{tabular}{r|lllll}\n",
       "  & Month & Day & Year & Transaction & type\\\\\n",
       "  & <chr> & <chr> & <chr> & <dbl> & <chr>\\\\\n",
       "\\hline\n",
       "\t1 & 3 & 10 & 2021 & -10.38 & Restaurant\\\\\n",
       "\t2 & 3 & 11 & 2021 & -10.49 & Restaurant\\\\\n",
       "\t3 & 3 & 11 & 2021 &  -6.71 & Groceries \\\\\n",
       "\t4 & 3 & 15 & 2021 & -13.42 & Personal  \\\\\n",
       "\t5 & 3 & 15 & 2021 & -21.97 & Personal  \\\\\n",
       "\t6 & 3 & 15 & 2021 & -23.08 & Personal  \\\\\n",
       "\\end{tabular}\n"
      ],
      "text/markdown": [
       "\n",
       "A data.frame: 6 × 5\n",
       "\n",
       "| <!--/--> | Month &lt;chr&gt; | Day &lt;chr&gt; | Year &lt;chr&gt; | Transaction &lt;dbl&gt; | type &lt;chr&gt; |\n",
       "|---|---|---|---|---|---|\n",
       "| 1 | 3 | 10 | 2021 | -10.38 | Restaurant |\n",
       "| 2 | 3 | 11 | 2021 | -10.49 | Restaurant |\n",
       "| 3 | 3 | 11 | 2021 |  -6.71 | Groceries  |\n",
       "| 4 | 3 | 15 | 2021 | -13.42 | Personal   |\n",
       "| 5 | 3 | 15 | 2021 | -21.97 | Personal   |\n",
       "| 6 | 3 | 15 | 2021 | -23.08 | Personal   |\n",
       "\n"
      ],
      "text/plain": [
       "  Month Day Year Transaction type      \n",
       "1 3     10  2021 -10.38      Restaurant\n",
       "2 3     11  2021 -10.49      Restaurant\n",
       "3 3     11  2021  -6.71      Groceries \n",
       "4 3     15  2021 -13.42      Personal  \n",
       "5 3     15  2021 -21.97      Personal  \n",
       "6 3     15  2021 -23.08      Personal  "
      ]
     },
     "metadata": {},
     "output_type": "display_data"
    }
   ],
   "source": [
    "date_no_delimiter <- separate(cleaned_data,\n",
    "                             col = \"Transaction Date\",\n",
    "                             into = c(\"Month\", \"Day\", \"Year\"),\n",
    "                             sep = \"/\")\n",
    "date_sorted <- arrange(date_no_delimiter, Year, Month, Day)\n",
    "head(date_sorted)"
   ]
  },
  {
   "cell_type": "markdown",
   "metadata": {},
   "source": [
    "Group by month"
   ]
  },
  {
   "cell_type": "code",
   "execution_count": 7,
   "metadata": {},
   "outputs": [
    {
     "data": {
      "text/html": [
       "<table class=\"dataframe\">\n",
       "<caption>A data.frame: 30 × 4</caption>\n",
       "<thead>\n",
       "\t<tr><th scope=col>Type</th><th scope=col>Month</th><th scope=col>Year</th><th scope=col>x</th></tr>\n",
       "\t<tr><th scope=col>&lt;chr&gt;</th><th scope=col>&lt;chr&gt;</th><th scope=col>&lt;chr&gt;</th><th scope=col>&lt;dbl&gt;</th></tr>\n",
       "</thead>\n",
       "<tbody>\n",
       "\t<tr><td>Allowance    </td><td>3</td><td>2021</td><td>   50.00</td></tr>\n",
       "\t<tr><td>Groceries    </td><td>3</td><td>2021</td><td>   -3.72</td></tr>\n",
       "\t<tr><td>Personal     </td><td>3</td><td>2021</td><td>-1233.79</td></tr>\n",
       "\t<tr><td>Restaurant   </td><td>3</td><td>2021</td><td> -160.43</td></tr>\n",
       "\t<tr><td>Allowance    </td><td>4</td><td>2021</td><td> 5000.00</td></tr>\n",
       "\t<tr><td>Groceries    </td><td>4</td><td>2021</td><td> -432.94</td></tr>\n",
       "\t<tr><td>Personal     </td><td>4</td><td>2021</td><td>-1109.23</td></tr>\n",
       "\t<tr><td>Restaurant   </td><td>4</td><td>2021</td><td> -535.37</td></tr>\n",
       "\t<tr><td>Subscriptions</td><td>4</td><td>2021</td><td>  -15.49</td></tr>\n",
       "\t<tr><td>Allowance    </td><td>5</td><td>2021</td><td> 2460.17</td></tr>\n",
       "\t<tr><td>Groceries    </td><td>5</td><td>2021</td><td> -651.83</td></tr>\n",
       "\t<tr><td>Housing      </td><td>5</td><td>2021</td><td>-2056.25</td></tr>\n",
       "\t<tr><td>Misc         </td><td>5</td><td>2021</td><td>    0.00</td></tr>\n",
       "\t<tr><td>Personal     </td><td>5</td><td>2021</td><td> -404.88</td></tr>\n",
       "\t<tr><td>Restaurant   </td><td>5</td><td>2021</td><td> -441.52</td></tr>\n",
       "\t<tr><td>Subscriptions</td><td>5</td><td>2021</td><td> -143.58</td></tr>\n",
       "\t<tr><td>Groceries    </td><td>6</td><td>2021</td><td> -456.40</td></tr>\n",
       "\t<tr><td>Housing      </td><td>6</td><td>2021</td><td>-1977.84</td></tr>\n",
       "\t<tr><td>Misc         </td><td>6</td><td>2021</td><td>    0.00</td></tr>\n",
       "\t<tr><td>Personal     </td><td>6</td><td>2021</td><td> -656.03</td></tr>\n",
       "\t<tr><td>Restaurant   </td><td>6</td><td>2021</td><td> -435.51</td></tr>\n",
       "\t<tr><td>Savings      </td><td>6</td><td>2021</td><td> 2600.00</td></tr>\n",
       "\t<tr><td>Subscriptions</td><td>6</td><td>2021</td><td>  -14.92</td></tr>\n",
       "\t<tr><td>Allowance    </td><td>7</td><td>2021</td><td> 3194.26</td></tr>\n",
       "\t<tr><td>Groceries    </td><td>7</td><td>2021</td><td> -307.37</td></tr>\n",
       "\t<tr><td>Housing      </td><td>7</td><td>2021</td><td>-1978.89</td></tr>\n",
       "\t<tr><td>Personal     </td><td>7</td><td>2021</td><td> -319.30</td></tr>\n",
       "\t<tr><td>Restaurant   </td><td>7</td><td>2021</td><td> -515.51</td></tr>\n",
       "\t<tr><td>Savings      </td><td>7</td><td>2021</td><td>  500.00</td></tr>\n",
       "\t<tr><td>Subscriptions</td><td>7</td><td>2021</td><td>  -39.19</td></tr>\n",
       "</tbody>\n",
       "</table>\n"
      ],
      "text/latex": [
       "A data.frame: 30 × 4\n",
       "\\begin{tabular}{llll}\n",
       " Type & Month & Year & x\\\\\n",
       " <chr> & <chr> & <chr> & <dbl>\\\\\n",
       "\\hline\n",
       "\t Allowance     & 3 & 2021 &    50.00\\\\\n",
       "\t Groceries     & 3 & 2021 &    -3.72\\\\\n",
       "\t Personal      & 3 & 2021 & -1233.79\\\\\n",
       "\t Restaurant    & 3 & 2021 &  -160.43\\\\\n",
       "\t Allowance     & 4 & 2021 &  5000.00\\\\\n",
       "\t Groceries     & 4 & 2021 &  -432.94\\\\\n",
       "\t Personal      & 4 & 2021 & -1109.23\\\\\n",
       "\t Restaurant    & 4 & 2021 &  -535.37\\\\\n",
       "\t Subscriptions & 4 & 2021 &   -15.49\\\\\n",
       "\t Allowance     & 5 & 2021 &  2460.17\\\\\n",
       "\t Groceries     & 5 & 2021 &  -651.83\\\\\n",
       "\t Housing       & 5 & 2021 & -2056.25\\\\\n",
       "\t Misc          & 5 & 2021 &     0.00\\\\\n",
       "\t Personal      & 5 & 2021 &  -404.88\\\\\n",
       "\t Restaurant    & 5 & 2021 &  -441.52\\\\\n",
       "\t Subscriptions & 5 & 2021 &  -143.58\\\\\n",
       "\t Groceries     & 6 & 2021 &  -456.40\\\\\n",
       "\t Housing       & 6 & 2021 & -1977.84\\\\\n",
       "\t Misc          & 6 & 2021 &     0.00\\\\\n",
       "\t Personal      & 6 & 2021 &  -656.03\\\\\n",
       "\t Restaurant    & 6 & 2021 &  -435.51\\\\\n",
       "\t Savings       & 6 & 2021 &  2600.00\\\\\n",
       "\t Subscriptions & 6 & 2021 &   -14.92\\\\\n",
       "\t Allowance     & 7 & 2021 &  3194.26\\\\\n",
       "\t Groceries     & 7 & 2021 &  -307.37\\\\\n",
       "\t Housing       & 7 & 2021 & -1978.89\\\\\n",
       "\t Personal      & 7 & 2021 &  -319.30\\\\\n",
       "\t Restaurant    & 7 & 2021 &  -515.51\\\\\n",
       "\t Savings       & 7 & 2021 &   500.00\\\\\n",
       "\t Subscriptions & 7 & 2021 &   -39.19\\\\\n",
       "\\end{tabular}\n"
      ],
      "text/markdown": [
       "\n",
       "A data.frame: 30 × 4\n",
       "\n",
       "| Type &lt;chr&gt; | Month &lt;chr&gt; | Year &lt;chr&gt; | x &lt;dbl&gt; |\n",
       "|---|---|---|---|\n",
       "| Allowance     | 3 | 2021 |    50.00 |\n",
       "| Groceries     | 3 | 2021 |    -3.72 |\n",
       "| Personal      | 3 | 2021 | -1233.79 |\n",
       "| Restaurant    | 3 | 2021 |  -160.43 |\n",
       "| Allowance     | 4 | 2021 |  5000.00 |\n",
       "| Groceries     | 4 | 2021 |  -432.94 |\n",
       "| Personal      | 4 | 2021 | -1109.23 |\n",
       "| Restaurant    | 4 | 2021 |  -535.37 |\n",
       "| Subscriptions | 4 | 2021 |   -15.49 |\n",
       "| Allowance     | 5 | 2021 |  2460.17 |\n",
       "| Groceries     | 5 | 2021 |  -651.83 |\n",
       "| Housing       | 5 | 2021 | -2056.25 |\n",
       "| Misc          | 5 | 2021 |     0.00 |\n",
       "| Personal      | 5 | 2021 |  -404.88 |\n",
       "| Restaurant    | 5 | 2021 |  -441.52 |\n",
       "| Subscriptions | 5 | 2021 |  -143.58 |\n",
       "| Groceries     | 6 | 2021 |  -456.40 |\n",
       "| Housing       | 6 | 2021 | -1977.84 |\n",
       "| Misc          | 6 | 2021 |     0.00 |\n",
       "| Personal      | 6 | 2021 |  -656.03 |\n",
       "| Restaurant    | 6 | 2021 |  -435.51 |\n",
       "| Savings       | 6 | 2021 |  2600.00 |\n",
       "| Subscriptions | 6 | 2021 |   -14.92 |\n",
       "| Allowance     | 7 | 2021 |  3194.26 |\n",
       "| Groceries     | 7 | 2021 |  -307.37 |\n",
       "| Housing       | 7 | 2021 | -1978.89 |\n",
       "| Personal      | 7 | 2021 |  -319.30 |\n",
       "| Restaurant    | 7 | 2021 |  -515.51 |\n",
       "| Savings       | 7 | 2021 |   500.00 |\n",
       "| Subscriptions | 7 | 2021 |   -39.19 |\n",
       "\n"
      ],
      "text/plain": [
       "   Type          Month Year x       \n",
       "1  Allowance     3     2021    50.00\n",
       "2  Groceries     3     2021    -3.72\n",
       "3  Personal      3     2021 -1233.79\n",
       "4  Restaurant    3     2021  -160.43\n",
       "5  Allowance     4     2021  5000.00\n",
       "6  Groceries     4     2021  -432.94\n",
       "7  Personal      4     2021 -1109.23\n",
       "8  Restaurant    4     2021  -535.37\n",
       "9  Subscriptions 4     2021   -15.49\n",
       "10 Allowance     5     2021  2460.17\n",
       "11 Groceries     5     2021  -651.83\n",
       "12 Housing       5     2021 -2056.25\n",
       "13 Misc          5     2021     0.00\n",
       "14 Personal      5     2021  -404.88\n",
       "15 Restaurant    5     2021  -441.52\n",
       "16 Subscriptions 5     2021  -143.58\n",
       "17 Groceries     6     2021  -456.40\n",
       "18 Housing       6     2021 -1977.84\n",
       "19 Misc          6     2021     0.00\n",
       "20 Personal      6     2021  -656.03\n",
       "21 Restaurant    6     2021  -435.51\n",
       "22 Savings       6     2021  2600.00\n",
       "23 Subscriptions 6     2021   -14.92\n",
       "24 Allowance     7     2021  3194.26\n",
       "25 Groceries     7     2021  -307.37\n",
       "26 Housing       7     2021 -1978.89\n",
       "27 Personal      7     2021  -319.30\n",
       "28 Restaurant    7     2021  -515.51\n",
       "29 Savings       7     2021   500.00\n",
       "30 Subscriptions 7     2021   -39.19"
      ]
     },
     "metadata": {},
     "output_type": "display_data"
    }
   ],
   "source": [
    "monthly_summary <- aggregate(date_no_delimiter$Transaction, by=list(Type=date_no_delimiter$type,\n",
    "                                                                Month=date_no_delimiter$Month,\n",
    "                                                                Year=date_no_delimiter$Year),\n",
    "                            FUN=sum)\n",
    "monthly_summary"
   ]
  },
  {
   "cell_type": "markdown",
   "metadata": {},
   "source": [
    "Visualizations"
   ]
  },
  {
   "cell_type": "code",
   "execution_count": 8,
   "metadata": {
    "scrolled": false
   },
   "outputs": [
    {
     "data": {
      "image/png": "[encoded data removed]",
      "text/plain": [
       "plot without title"
      ]
     },
     "metadata": {
      "image/png": {
       "height": 900,
       "width": 1200
      }
     },
     "output_type": "display_data"
    }
   ],
   "source": [
    "options(repr.plot.width = 20, repr.plot.height = 15)\n",
    "usage_chart <- ggplot(monthly_summary, aes(x=Month, y=x, fill=factor(Type, levels=\n",
    "                                                                          c(\"Allowance\", \n",
    "                                                                            \"Housing\", \n",
    "                                                                            \"Subscriptions\", \n",
    "                                                                            \"Groceries\", \n",
    "                                                                            \"Personal\", \n",
    "                                                                            \"Restaurant\", \n",
    "                                                                            \"Savings\", \n",
    "                                                                            \"Misc\")))) +\n",
    "    geom_bar(stat = \"identity\", position = position_stack(reverse = TRUE)) + \n",
    "    labs(x=\"Month\", y=\"Dollars Spent\", fill=\"Transaction Type\")+\n",
    "    scale_y_reverse()+ \n",
    "    scale_fill_brewer(palette='Set3')+\n",
    "    theme(text = element_text(size = 20))\n",
    "usage_chart"
   ]
  },
  {
   "cell_type": "code",
   "execution_count": null,
   "metadata": {},
   "outputs": [],
   "source": []
  }
 ],
 "metadata": {
  "kernelspec": {
   "display_name": "R",
   "language": "R",
   "name": "ir"
  },
  "language_info": {
   "codemirror_mode": "r",
   "file_extension": ".r",
   "mimetype": "text/x-r-source",
   "name": "R",
   "pygments_lexer": "r",
   "version": "3.6.1"
  }
 },
 "nbformat": 4,
 "nbformat_minor": 4
}
