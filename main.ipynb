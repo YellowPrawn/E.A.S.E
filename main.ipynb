{
 "cells": [
  {
   "cell_type": "code",
   "execution_count": null,
   "metadata": {},
   "outputs": [],
   "source": [
    "library(tidyverse)\n",
    "library(repr)\n",
    "library(gridExtra)"
   ]
  },
  {
   "cell_type": "markdown",
   "metadata": {},
   "source": [
    "Select neccesary data"
   ]
  },
  {
   "cell_type": "code",
   "execution_count": null,
   "metadata": {
    "scrolled": true
   },
   "outputs": [],
   "source": [
    "history_data <- read_csv(\"data/history.csv\")\n",
    "statement_raw_data <- read_csv(\"data/statement.csv\") %>%\n",
    "    rbind(history_data)\n",
    "\n",
    "#write_csv(statement_raw_data, \"data/history.csv\", append = FALSE)\n",
    "#TODO: REMOVE DUPLICATE ROWS\n",
    "\n",
    "visa_data <- statement_raw_data %>%\n",
    "    filter(`Account Type`==\"Visa\") %>%\n",
    "    select(\"Transaction Date\", \"Description 1\", \"CAD$\")%>%\n",
    "    rename(\"Description 2\"=`Description 1`)\n",
    "\n",
    "chequing_data <- statement_raw_data %>%\n",
    "    filter(`Account Type` == \"Chequing\") %>%\n",
    "    select(\"Transaction Date\", \"Description 2\", \"CAD$\")\n",
    "\n",
    "statement_data <- rbind(chequing_data, visa_data) %>%\n",
    "    rename(\"Transaction\"=\"CAD$\")\n",
    "\n",
    "head(statement_data, n=10)"
   ]
  },
  {
   "cell_type": "markdown",
   "metadata": {},
   "source": [
    "Categorize transactions"
   ]
  },
  {
   "cell_type": "code",
   "execution_count": null,
   "metadata": {},
   "outputs": [],
   "source": [
    "lookup_data <- read_csv(\"data/lookup_table.csv\")\n",
    "head(lookup_data)"
   ]
  },
  {
   "cell_type": "markdown",
   "metadata": {},
   "source": [
    "Merge transaction type with remaining data and remove vendor name"
   ]
  },
  {
   "cell_type": "code",
   "execution_count": null,
   "metadata": {},
   "outputs": [],
   "source": [
    "merged_data <- merge(statement_data, lookup_data)%>%\n",
    "    select(-\"Description 2\")\n",
    "head(merged_data, n=10)"
   ]
  },
  {
   "cell_type": "markdown",
   "metadata": {},
   "source": [
    "Minor clean up"
   ]
  },
  {
   "cell_type": "code",
   "execution_count": null,
   "metadata": {},
   "outputs": [],
   "source": [
    "savings_filter <- filter(merged_data, type==\"Savings\")%>%\n",
    "    mutate(Transaction= abs(as.numeric(Transaction)))\n",
    "cleaned_data <- filter(merged_data, type!=\"Savings\")%>%\n",
    "    rbind(savings_filter)%>%\n",
    "    mutate(Transaction= as.numeric(Transaction))\n",
    "head(cleaned_data, n=10)"
   ]
  },
  {
   "cell_type": "markdown",
   "metadata": {},
   "source": [
    "Separate Transaction date into multiple columns"
   ]
  },
  {
   "cell_type": "code",
   "execution_count": null,
   "metadata": {},
   "outputs": [],
   "source": [
    "date_no_delimiter <- separate(cleaned_data,\n",
    "                             col = \"Transaction Date\",\n",
    "                             into = c(\"Month\", \"Day\", \"Year\"),\n",
    "                             sep = \"/\")\n",
    "date_sorted <- arrange(date_no_delimiter, Year, Month, Day)\n",
    "head(date_sorted)"
   ]
  },
  {
   "cell_type": "markdown",
   "metadata": {},
   "source": [
    "Group by month"
   ]
  },
  {
   "cell_type": "code",
   "execution_count": null,
   "metadata": {},
   "outputs": [],
   "source": [
    "monthly_summary <- aggregate(date_no_delimiter$Transaction, by=list(Type=date_no_delimiter$type,\n",
    "                                                                Month=date_no_delimiter$Month,\n",
    "                                                                Year=date_no_delimiter$Year),\n",
    "                            FUN=sum)\n",
    "head(monthly_summary)"
   ]
  },
  {
   "cell_type": "markdown",
   "metadata": {},
   "source": [
    "Visualizations"
   ]
  },
  {
   "cell_type": "code",
   "execution_count": null,
   "metadata": {
    "scrolled": false
   },
   "outputs": [],
   "source": [
    "options(repr.plot.width = 20, repr.plot.height = 15)\n",
    "usage_chart <- ggplot(monthly_summary, aes(x=Month, y=x, fill=factor(Type, levels=\n",
    "                                                                          c(\"Allowance\",\n",
    "                                                                            \"Deposit\",                                                                \n",
    "                                                                            \"Housing\", \n",
    "                                                                            \"Subscriptions\",\n",
    "                                                                            \"Withdrawal\",\n",
    "                                                                            \"Groceries\", \n",
    "                                                                            \"Personal\", \n",
    "                                                                            \"Restaurant\",\n",
    "                                                                            \"Ticketing\",\n",
    "                                                                            \"Clothing\",\n",
    "                                                                            \"Savings\", \n",
    "                                                                            \"Misc\")))) +\n",
    "    geom_bar(stat = \"identity\", position = position_stack(reverse = TRUE)) + \n",
    "    labs(x=\"Month\", y=\"Dollars Spent\", fill=\"Transaction Type\")+\n",
    "    scale_y_reverse()+ \n",
    "    scale_fill_brewer(palette='Set3')+\n",
    "    theme(text = element_text(size = 20))\n",
    "usage_chart"
   ]
  },
  {
   "cell_type": "code",
   "execution_count": null,
   "metadata": {},
   "outputs": [],
   "source": [
    "final_summary <- monthly_summary %>%\n",
    "    mutate(x=abs(x))%>%\n",
    "    pivot_wider(names_from = Type, values_from = x)\n",
    "final_summary[is.na(final_summary)] <- 0\n",
    "final_summary[,c(1,2,3,4,8,5,6,7,10,9,12,13,15,11)]"
   ]
  },
  {
   "cell_type": "code",
   "execution_count": null,
   "metadata": {},
   "outputs": [],
   "source": [
    "total_summary <- final_summary%>%\n",
    "    mutate(`Total Inflow`=Allowance+Deposit+Savings)%>%\n",
    "    mutate(`Total Outflow`=Withdrawal+Groceries+Personal+Restaurant+Subscriptions+Misc)%>%\n",
    "    mutate(`Total Outflow (+ Housing)` = `Total Outflow` + Housing)%>%\n",
    "    mutate(`Carryover Balance` = `Total Inflow`-`Total Outflow (+ Housing)`)%>%\n",
    "    select(Month,`Total Inflow`,`Total Outflow`,`Total Outflow (+ Housing)`,`Carryover Balance`)\n",
    "total_summary"
   ]
  },
  {
   "cell_type": "code",
   "execution_count": null,
   "metadata": {},
   "outputs": [],
   "source": []
  }
 ],
 "metadata": {
  "kernelspec": {
   "display_name": "R",
   "language": "R",
   "name": "ir"
  },
  "language_info": {
   "codemirror_mode": "r",
   "file_extension": ".r",
   "mimetype": "text/x-r-source",
   "name": "R",
   "pygments_lexer": "r",
   "version": "4.0.5"
  }
 },
 "nbformat": 4,
 "nbformat_minor": 4
}
