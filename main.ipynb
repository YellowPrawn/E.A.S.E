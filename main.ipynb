{
 "cells": [
  {
   "cell_type": "code",
   "execution_count": null,
   "metadata": {},
   "outputs": [],
   "source": [
    "library(tidyverse)\n",
    "library(repr)\n",
    "library(digest)\n",
    "library(infer)\n",
    "library(gridExtra)"
   ]
  },
  {
   "cell_type": "markdown",
   "metadata": {},
   "source": [
    "Select neccesary data"
   ]
  },
  {
   "cell_type": "code",
   "execution_count": null,
   "metadata": {
    "scrolled": true
   },
   "outputs": [],
   "source": [
    "history_data <- read_csv(\"data/history.csv\")\n",
    "statement_data <- read_csv(\"data/statement.csv\") %>%\n",
    "    filter(`Account Type` == \"Chequing\") %>%\n",
    "    rbind(history_data)%>%\n",
    "    select(\"Transaction Date\", \"Description 2\", \"CAD$\")%>%\n",
    "    rename(\"Transaction\"=\"CAD$\")\n",
    "head(statement_data, n=10)"
   ]
  },
  {
   "cell_type": "markdown",
   "metadata": {},
   "source": [
    "Categorize transactions"
   ]
  },
  {
   "cell_type": "code",
   "execution_count": null,
   "metadata": {},
   "outputs": [],
   "source": [
    "lookup_data <- read_csv(\"data/lookup_table.csv\")\n",
    "head(lookup_data)"
   ]
  },
  {
   "cell_type": "markdown",
   "metadata": {},
   "source": [
    "Merge transaction type with remaining data and remove vendor name"
   ]
  },
  {
   "cell_type": "code",
   "execution_count": null,
   "metadata": {},
   "outputs": [],
   "source": [
    "merged_data <- merge(statement_data, lookup_data)%>%\n",
    "    select(-\"Description 2\")\n",
    "head(merged_data, n=10)"
   ]
  },
  {
   "cell_type": "markdown",
   "metadata": {},
   "source": [
    "Separate Transaction date into multiple columns"
   ]
  },
  {
   "cell_type": "code",
   "execution_count": null,
   "metadata": {},
   "outputs": [],
   "source": [
    "date_no_delimiter <- separate(merged_data,\n",
    "                             col = \"Transaction Date\",\n",
    "                             into = c(\"Month\", \"Day\", \"Year\"),\n",
    "                             sep = \"/\")\n",
    "date_sorted <- arrange(date_no_delimiter, Year, Month, Day)\n",
    "head(date_sorted)"
   ]
  },
  {
   "cell_type": "markdown",
   "metadata": {},
   "source": [
    "Group by month"
   ]
  },
  {
   "cell_type": "code",
   "execution_count": null,
   "metadata": {},
   "outputs": [],
   "source": [
    "monthly_summary <- aggregate(date_no_delimiter$Transaction, by=list(Type=date_no_delimiter$type,\n",
    "                                                                Month=date_no_delimiter$Month,\n",
    "                                                                Year=date_no_delimiter$Year),\n",
    "                            FUN=sum)\n",
    "monthly_summary"
   ]
  },
  {
   "cell_type": "markdown",
   "metadata": {},
   "source": [
    "Visualizations"
   ]
  },
  {
   "cell_type": "code",
   "execution_count": null,
   "metadata": {
    "scrolled": false
   },
   "outputs": [],
   "source": [
    "options(repr.plot.width = 20, repr.plot.height = 15)\n",
    "usage_chart <- ggplot(monthly_summary, aes(x=Month, y=x, fill=Type)) +\n",
    "    geom_bar(stat = \"identity\", position = position_stack(reverse = TRUE)) + \n",
    "    labs(x=\"Month\", y=\"Dollars Spent\", fill=\"Transaction Type\")+\n",
    "    scale_y_reverse()+ \n",
    "    scale_fill_brewer(palette='Set3')+\n",
    "    theme(text = element_text(size = 20))\n",
    "usage_chart"
   ]
  },
  {
   "cell_type": "code",
   "execution_count": null,
   "metadata": {},
   "outputs": [],
   "source": []
  }
 ],
 "metadata": {
  "kernelspec": {
   "display_name": "R",
   "language": "R",
   "name": "ir"
  },
  "language_info": {
   "codemirror_mode": "r",
   "file_extension": ".r",
   "mimetype": "text/x-r-source",
   "name": "R",
   "pygments_lexer": "r",
   "version": "3.6.1"
  }
 },
 "nbformat": 4,
 "nbformat_minor": 4
}
